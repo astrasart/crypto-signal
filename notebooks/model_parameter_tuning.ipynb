{
 "cells": [
  {
   "cell_type": "code",
   "execution_count": 2,
   "id": "f8f586c3-33ee-4f7a-a96b-8b1666ad9045",
   "metadata": {},
   "outputs": [],
   "source": [
    "# %% [code]\n",
    "# Import necessary libraries\n",
    "import json      # For reading JSON files\n",
    "import os        # For file path operations\n",
    "import pandas as pd   # For data manipulation and analysis\n",
    "import datetime  # For converting timestamps to human-readable dates\n"
   ]
  },
  {
   "cell_type": "code",
   "execution_count": 4,
   "id": "fcc619f9-a360-4e9c-b5ed-93c20e9ca464",
   "metadata": {},
   "outputs": [],
   "source": [
    "# Define the path using ~\n",
    "data_filepath = \"/Users/tim/astrasart/crypto-signal/src/data/bitcoin_data.json\"\n",
    "\n",
    "# Expand the ~ to the full path (e.g., /Users/tim)\n",
    "data_filepath = os.path.expanduser(data_filepath)\n",
    "\n",
    "# Open and load the JSON file\n",
    "with open(data_filepath, \"r\") as f:\n",
    "    crypto_data = json.load(f)\n",
    "\n"
   ]
  },
  {
   "cell_type": "code",
   "execution_count": 6,
   "id": "929bec98-b08b-46a7-97eb-512e586bc345",
   "metadata": {},
   "outputs": [
    {
     "name": "stdout",
     "output_type": "stream",
     "text": [
      "-rw-r--r--  1 tim  staff  169368 Feb  4 00:37 /Users/tim/astrasart/crypto-signal/src/data/bitcoin_data.json\n"
     ]
    }
   ],
   "source": [
    "ls -l /Users/tim/astrasart/crypto-signal/src/data/bitcoin_data.json\n"
   ]
  },
  {
   "cell_type": "code",
   "execution_count": 8,
   "id": "b2519e19-939f-47a1-9433-dcd9f02c22ca",
   "metadata": {},
   "outputs": [
    {
     "name": "stdout",
     "output_type": "stream",
     "text": [
      "/Users/tim/astrasart/crypto-signal/notebooks\n"
     ]
    }
   ],
   "source": [
    "import os\n",
    "print(os.getcwd())\n"
   ]
  },
  {
   "cell_type": "code",
   "execution_count": 10,
   "id": "4aa649bf-da4b-4776-9ca4-21505812d5f5",
   "metadata": {},
   "outputs": [],
   "source": [
    "# -------------------------------\n",
    "# Step 2: Extract the price data\n",
    "# -------------------------------\n",
    "def extract_price_data(data):\n",
    "    \"\"\"\n",
    "    Extracts timestamp and price data from the loaded JSON data.\n",
    "    The JSON is expected to have a 'prices' key containing a list of [timestamp, price] pairs.\n",
    "    \n",
    "    Args:\n",
    "        data (dict): The cryptocurrency data loaded from JSON.\n",
    "    \n",
    "    Returns:\n",
    "        list: A list of tuples in the form (timestamp, price).\n",
    "    \"\"\"\n",
    "    prices = data.get(\"prices\", [])\n",
    "    return [(item[0], item[1]) for item in prices]\n",
    "\n",
    "# Use the function to get the price data\n",
    "price_data = extract_price_data(crypto_data)\n"
   ]
  },
  {
   "cell_type": "code",
   "execution_count": 12,
   "id": "c3166769-60db-427a-8a33-e2604da21893",
   "metadata": {},
   "outputs": [],
   "source": [
    "# -------------------------------\n",
    "# Step 3: Create a Pandas DataFrame from the price data\n",
    "# -------------------------------\n",
    "# Create the DataFrame with columns for timestamp and price\n",
    "df = pd.DataFrame(price_data, columns=['timestamp', 'price'])\n",
    "\n",
    "# Convert the timestamp (which is in milliseconds) to a datetime object\n",
    "df['datetime'] = pd.to_datetime(df['timestamp'], unit='ms')\n",
    "\n",
    "# Sort the DataFrame by datetime (if not already sorted)\n",
    "df.sort_values('datetime', inplace=True)\n"
   ]
  },
  {
   "cell_type": "code",
   "execution_count": 14,
   "id": "f5712fbb-da24-45f8-9ae1-3e076e8a906b",
   "metadata": {},
   "outputs": [],
   "source": [
    "# -------------------------------\n",
    "# Step 4: Calculate a simple moving average\n",
    "# -------------------------------\n",
    "# Set the window size for the moving average (you can adjust this value)\n",
    "window_size = 5\n",
    "\n",
    "# Use Pandas' rolling() method to calculate the moving average of the 'price' column\n",
    "df['moving_average'] = df['price'].rolling(window=window_size).mean()\n"
   ]
  },
  {
   "cell_type": "code",
   "execution_count": 16,
   "id": "2932f7ae-9a78-4271-9d24-a1c5a8ee2d84",
   "metadata": {},
   "outputs": [],
   "source": [
    "# -------------------------------\n",
    "# Step 5: Calculate the raw signal\n",
    "# -------------------------------\n",
    "# The raw signal is defined as the difference between the current price and its moving average.\n",
    "df['raw_signal'] = df['price'] - df['moving_average']"
   ]
  },
  {
   "cell_type": "code",
   "execution_count": 26,
   "id": "2b4a6727-b4bb-4f75-a6a5-3e20576d405c",
   "metadata": {},
   "outputs": [],
   "source": [
    "# -------------------------------\n",
    "# Step 6: Define Drake's formula with tunable parameters\n",
    "# -------------------------------\n",
    "def drakes_formula(signal_strength, num_factors, normalization_factor):\n",
    "    \"\"\"\n",
    "    Applies a modified version of Drake's formula to the raw signal.\n",
    "    The formula multiplies the raw signal by a weight and then normalizes it.\n",
    "    \n",
    "    Args:\n",
    "        signal_strength (float): The raw signal (price difference).\n",
    "        num_factors (float): A parameter that influences the weight multiplier.\n",
    "                             (For example, num_factors=1 produces a multiplier of 1.1.)\n",
    "        normalization_factor (float): A value to scale down the weighted signal.\n",
    "    \n",
    "    Returns:\n",
    "        float: The normalized weighted signal.\n",
    "    \"\"\"\n",
    "    # Calculate the weight multiplier (this is a simple linear scaling)\n",
    "    drake_weight = 2.0 + (num_factors * 0.2)\n",
    "    \n",
    "    # Multiply the raw signal by the weight multiplier\n",
    "    weighted_signal = signal_strength * drake_weight\n",
    "    \n",
    "    # Normalize the weighted signal to bring it closer to a desired range (e.g., -1 to 1)\n",
    "    normalized_signal = weighted_signal / normalization_factor\n",
    "    \n",
    "    return normalized_signal\n"
   ]
  },
  {
   "cell_type": "code",
   "execution_count": 28,
   "id": "22067113-144f-43d7-8ac5-f5bfcf1d80bc",
   "metadata": {},
   "outputs": [],
   "source": [
    "# -------------------------------\n",
    "# Step 7: Set the tunable parameters for Drake's formula\n",
    "# -------------------------------\n",
    "# You can adjust these values to see how the normalized signal changes.\n",
    "num_factors = 1           # For example, try 1, 1.5, 2, etc.\n",
    "normalization_factor = 500.0  # Adjust based on your desired scaling\n"
   ]
  },
  {
   "cell_type": "code",
   "execution_count": 30,
   "id": "9b29fa80-40ca-4f57-8618-e1d6e086c70b",
   "metadata": {},
   "outputs": [],
   "source": [
    "# -------------------------------\n",
    "# Step 8: Calculate the weighted and normalized signals\n",
    "# -------------------------------\n",
    "# Apply the Drake's formula to each raw signal in the DataFrame\n",
    "df['weighted_signal'] = df['raw_signal'] * (1.0 + (num_factors * 0.1))\n",
    "df['normalized_signal'] = df['weighted_signal'] / normalization_factor\n"
   ]
  },
  {
   "cell_type": "code",
   "execution_count": 32,
   "id": "2ad3bbf8-46cf-4007-85eb-fedd248ed4ae",
   "metadata": {},
   "outputs": [
    {
     "name": "stdout",
     "output_type": "stream",
     "text": [
      "                 datetime         price  moving_average  raw_signal  \\\n",
      "0 2025-01-05 06:00:58.589  98332.785558             NaN         NaN   \n",
      "1 2025-01-05 07:03:49.334  98432.366367             NaN         NaN   \n",
      "2 2025-01-05 08:03:10.339  98245.812482             NaN         NaN   \n",
      "3 2025-01-05 09:03:56.425  97817.764425             NaN         NaN   \n",
      "4 2025-01-05 10:03:54.704  97637.687070     98093.28318 -455.596111   \n",
      "\n",
      "   weighted_signal  normalized_signal  \n",
      "0              NaN                NaN  \n",
      "1              NaN                NaN  \n",
      "2              NaN                NaN  \n",
      "3              NaN                NaN  \n",
      "4      -501.155722          -1.002311  \n"
     ]
    }
   ],
   "source": [
    "# -------------------------------\n",
    "# Step 9: Output the results in a Pandas DataFrame\n",
    "# -------------------------------\n",
    "# Create a summary DataFrame with relevant columns for easy copying\n",
    "df_summary = df[['datetime', 'price', 'moving_average', 'raw_signal', 'weighted_signal', 'normalized_signal']]\n",
    "\n",
    "# Display the first few rows to inspect the results\n",
    "print(df_summary.head())\n",
    "\n",
    "# Alternatively, you can display the entire DataFrame (or export it to CSV)\n",
    "# df_summary.to_csv(\"parameter_tuning_results.csv\", index=False)"
   ]
  },
  {
   "cell_type": "code",
   "execution_count": null,
   "id": "8d3ba24b-f9f8-467c-86f3-17eec2a94e43",
   "metadata": {},
   "outputs": [],
   "source": []
  }
 ],
 "metadata": {
  "kernelspec": {
   "display_name": "Python 3 (ipykernel)",
   "language": "python",
   "name": "python3"
  },
  "language_info": {
   "codemirror_mode": {
    "name": "ipython",
    "version": 3
   },
   "file_extension": ".py",
   "mimetype": "text/x-python",
   "name": "python",
   "nbconvert_exporter": "python",
   "pygments_lexer": "ipython3",
   "version": "3.12.7"
  }
 },
 "nbformat": 4,
 "nbformat_minor": 5
}
